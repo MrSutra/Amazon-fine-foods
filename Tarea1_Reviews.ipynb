{
 "cells": [
  {
   "cell_type": "markdown",
   "metadata": {},
   "source": [
    "# Tarea 1 - Amazon Food Reviews\n"
   ]
  },
  {
   "cell_type": "code",
   "execution_count": 1,
   "metadata": {
    "collapsed": true
   },
   "outputs": [],
   "source": [
    "from bs4 import BeautifulSoup"
   ]
  },
  {
   "cell_type": "code",
   "execution_count": 2,
   "metadata": {
    "collapsed": false
   },
   "outputs": [],
   "source": [
    "reviews = open(\"amazon-fine-foods/Reviews.csv\", \"r\")\n",
    "\n",
    "corpus = []\n",
    "score = []\n",
    "\n",
    "reviews.readline()\n",
    "\n",
    "for line in reviews:\n",
    "    review = line.strip().split(\",\")\n",
    "    text = BeautifulSoup(review[-1], 'html.parser')\n",
    "    corpus.append([text.get_text()])\n",
    "    score.append(review[6])\n",
    "\n",
    "reviews.close()"
   ]
  },
  {
   "cell_type": "code",
   "execution_count": 3,
   "metadata": {
    "collapsed": false
   },
   "outputs": [
    {
     "name": "stdout",
     "output_type": "stream",
     "text": [
      "[[u'I have bought several of the Vitality canned dog food products and have found them all to be of good quality. The product looks more like a stew than a processed meat and it smells better. My Labrador is finicky and she appreciates this product better than  most.'], [u'\"Product arrived labeled as Jumbo Salted Peanuts...the peanuts were actually small sized unsalted. Not sure if this was an error or if the vendor intended to represent the product as \"\"Jumbo\"\".\"']]\n"
     ]
    }
   ],
   "source": [
    "print corpus[:2]"
   ]
  },
  {
   "cell_type": "code",
   "execution_count": 4,
   "metadata": {
    "collapsed": false
   },
   "outputs": [],
   "source": [
    "import nltk\n",
    "tokens = []\n",
    "for doc in corpus:\n",
    "    tokens += nltk.word_tokenize(doc[0])"
   ]
  },
  {
   "cell_type": "code",
   "execution_count": 5,
   "metadata": {
    "collapsed": false
   },
   "outputs": [
    {
     "name": "stdout",
     "output_type": "stream",
     "text": [
      "Total Tokens: 17255960\n",
      " 20 first tokens: \n",
      "[u'I', u'have', u'bought', u'several', u'of', u'the', u'Vitality', u'canned', u'dog', u'food', u'products', u'and', u'have', u'found', u'them', u'all', u'to', u'be', u'of', u'good']\n"
     ]
    }
   ],
   "source": [
    "print \"Total Tokens: %d\" % len(tokens)\n",
    "print \" 20 first tokens: \"\n",
    "print tokens[:20]"
   ]
  },
  {
   "cell_type": "code",
   "execution_count": 6,
   "metadata": {
    "collapsed": false
   },
   "outputs": [
    {
     "name": "stdout",
     "output_type": "stream",
     "text": [
      "[u'bought', u'several', u'vitality', u'canned', u'dog', u'food', u'products', u'found', u'good', u'quality', u'.', u'product', u'looks', u'like', u'stew', u'processed', u'meat', u'smells', u'better', u'.']\n"
     ]
    }
   ],
   "source": [
    "from nltk.corpus import stopwords\n",
    "\n",
    "stoplist = stopwords.words('english')\n",
    "# filtered tokens\n",
    "tokens = [token.lower() for token in tokens if token.lower() not in stoplist]\n",
    "\n",
    "print tokens[:20]"
   ]
  },
  {
   "cell_type": "code",
   "execution_count": 13,
   "metadata": {
    "collapsed": false
   },
   "outputs": [
    {
     "name": "stdout",
     "output_type": "stream",
     "text": [
      "7342622\n",
      "[u'oz/roisen', u'ozthe', u'zzzzz', u'oz/85g', u'oz.show', u'oz.instead', u'oz24.99/36=.694', u'oz.size', u'zzzzzzzz', u'oz.h', u'oz.5', u'ozupc', u'czechoslovakian', u'bzzagent.com', u'ezekeal', u'tzus..', u'azeite', u't~upset', u't~mom/critter', u'3~4', u'2~3', u'5~10', u't~mom/fur-mom', u't~mom/a', u't~mom/blogger/dog', u't~mom', u't~mom/blogger/dieter', u't~mom/baker', u'~~we', u't~mom/blogger/brownie', u'~~~~~', u't~mom/blogger', u't~mom/blogger/pie', u'.~3/12/2011ate', u'g~saturated', u'~~trish~~', u't~mom/kidlit', u't~mom/dog', u'~~~~~~~~~~~a+++++++++++++~~~~~~~~~~', u'~~~', u'.~the', u'~~~~~~now', u'2~4', u't~mom/', u'~~~~pros', u'4~5', u'8~15', u't~mom/blogger/cookie', u'\\u0103\\x97piperita', u'i\\xa1\\u0e22\\u0e06m', u'\\xe2\\xa8life', u'f\\xe1ciles', u'm\\xe1s', u'r\\xe1pida', u'r\\xe1pido', u'f\\xe1cilmente', u'4\\xe2\\u02dd', u'6\\xe2\\xa2', u'1\\xe2\\u017e', u'1\\xe2\\u02dd', u'2\\xe2\\u02dd', u'5\\xe2\\u02d8/oz', u'a\\xe2\\u0105++++++++++++++++', u'h\\xe4lt', u'l\\xe4rabar', u'h\\xe4agen-dazs', u'r\\xe9ussit', u'b\\xe9reng\\xe8re', u'd\\xe9cor', u'j\\xe9r\\u0103\\xb4me', u'd\\xe9lices', u'h\\xe9sitation', u'd\\xe9licieux', u'd\\xe9j\\xe0', u'k\\xf6stlich', u'k\\xfchlschrank', u'-\\u0103\\x9e', u'c\\u0103\\xb4te', u's\\u0103\\u013e', u'\\xe2\\u013eg', u'\\xe2\\u01427', u'\\xe2\\u014250not', u'\\xe2\\u014231', u'\\xe2\\u014230+', u'\\xe2\\u01428+', u'\\xe2\\u01612010', u'\\xe2\\u01612008', u'\\xe2\\u02d8.99', u'\\xe2\\u02d8\\xe2\\u017e', u'\\u043f\\u0435\\u0440\\u0435\\u043c\\u0435\\u043d\\u0443', u'\\u0447\\u0442\\u043e\\u0431\\u044b', u'\\u0441\\u044c\\u0435\\u0441\\u0442\\u044c', u'\\u0e23\\u0e07ay', u'a\\u0e23\\u0e07ai', u'\\u200b\\u200bto', u'\\u8d85\\u7f8e\\u5473\\u3044\\u3088\\u3002', u'\\uc544\\uae30\\uac00', u'\\ud798\\ub4e4\\uc5b4\\uadf8\\ub0e5', u'\\uc88b\\uc544\\ud574', u'\\uc601\\uc5b4\\uac00']\n"
     ]
    }
   ],
   "source": [
    "tokens = [token for token in tokens if len(token) >= 3]\n",
    "print len(tokens)\n",
    "frec_dist = nltk.FreqDist(tokens) #terminos"
   ]
  },
  {
   "cell_type": "code",
   "execution_count": 20,
   "metadata": {
    "collapsed": false
   },
   "outputs": [],
   "source": [
    "terminos = [token for token in tokens if frec_dist[token] >= 4]  #Cambiar frecuencia umbral\n"
   ]
  },
  {
   "cell_type": "code",
   "execution_count": 32,
   "metadata": {
    "collapsed": false
   },
   "outputs": [
    {
     "name": "stdout",
     "output_type": "stream",
     "text": [
      "[(u'-protien', u'hemp-protien'), (u'-smirch', u'centennial'), (u'.false', u'adversing'), (u'.hard', u'sugarrio'), (u'.quel', u'bonheur'), (u'.steak', u'frites-'), (u'//www.drbronner.com/pdf/hempnutrition.pdfhttp', u'//sudburymarket.com/nutritional_benefits_hemp.html'), (u'//www.ratical.org/renewables/hempseed1.htmlhttp', u'//www.drbronner.com/pdf/hempnutrition.pdfhttp'), (u'22.37', u'96-pack'), (u'3.40/oz', u'2.62/oz'), (u'36.99', u'/80'), (u'45carbs', u'gmsodium'), (u'95lb', u'pitbull/'), (u'=1298166499', u'=1-1-catcorr'), (u'a.l', u'walton'), (u'abctoy4me', u'toysdiva'), (u'amazon.sylvia', u'lorenzano'), (u'antioxdent', u'ithelps'), (u'baltasar', u'gracian'), (u'bay/fog', u'chaserwas'), (u'bicardi', u'oakheart'), (u'broke.edit', u'5/6/10i'), (u'brownieok', u'flavorspretty'), (u'buy.sincerelydanny', u'knowles'), (u'camellia', u'sinensis'), (u'cappuccino.just', u'greaaat'), (u'cheeaper', u'petsmarthowever'), (u'confindent', u'*star*'), (u'craggles', u'wondermentsperfection'), (u'crags', u'craggles')]\n"
     ]
    }
   ],
   "source": [
    "from nltk.collocations import *\n",
    "bigram_measures = nltk.collocations.BigramAssocMeasures()\n",
    "finder = BigramCollocationFinder.from_words(terminos)\n",
    "top_collocations = finder.nbest(bigram_measures.pmi, 30) #top 30 bigramas\n",
    "print top_collocations"
   ]
  },
  {
   "cell_type": "code",
   "execution_count": 33,
   "metadata": {
    "collapsed": false
   },
   "outputs": [
    {
     "name": "stdout",
     "output_type": "stream",
     "text": [
      "[(u'bought', 'VBD'), (u'several', 'JJ'), (u'vitality', 'NN'), (u'canned', 'VBD'), (u'dog', 'JJ'), (u'food', 'NN'), (u'products', 'NNS'), (u'found', 'VBD'), (u'good', 'JJ'), (u'quality', 'NN')]\n"
     ]
    }
   ],
   "source": [
    "#from nltk.tag import StanfordPOSTagger\n",
    "tagged = nltk.pos_tag(terminos)\n",
    "print tagged[:10]"
   ]
  },
  {
   "cell_type": "code",
   "execution_count": 36,
   "metadata": {
    "collapsed": false
   },
   "outputs": [
    {
     "ename": "TypeError",
     "evalue": "__init__() takes at least 2 arguments (1 given)",
     "output_type": "error",
     "traceback": [
      "\u001b[0;31m---------------------------------------------------------------------------\u001b[0m",
      "\u001b[0;31mTypeError\u001b[0m                                 Traceback (most recent call last)",
      "\u001b[0;32m<ipython-input-36-ce298ea66c4d>\u001b[0m in \u001b[0;36m<module>\u001b[0;34m()\u001b[0m\n\u001b[1;32m      1\u001b[0m \u001b[0;32mfrom\u001b[0m \u001b[0mnltk\u001b[0m\u001b[0;34m.\u001b[0m\u001b[0mtag\u001b[0m \u001b[0;32mimport\u001b[0m \u001b[0mStanfordNERTagger\u001b[0m\u001b[0;34m\u001b[0m\u001b[0m\n\u001b[0;32m----> 2\u001b[0;31m \u001b[0mst\u001b[0m \u001b[0;34m=\u001b[0m \u001b[0mStanfordNERTagger\u001b[0m\u001b[0;34m(\u001b[0m\u001b[0;34m)\u001b[0m\u001b[0;34m\u001b[0m\u001b[0m\n\u001b[0m\u001b[1;32m      3\u001b[0m \u001b[0mner\u001b[0m \u001b[0;34m=\u001b[0m \u001b[0mst\u001b[0m\u001b[0;34m.\u001b[0m\u001b[0mtag\u001b[0m\u001b[0;34m(\u001b[0m\u001b[0mterminos\u001b[0m\u001b[0;34m)\u001b[0m\u001b[0;34m\u001b[0m\u001b[0m\n\u001b[1;32m      4\u001b[0m \u001b[0;32mprint\u001b[0m \u001b[0mner\u001b[0m\u001b[0;34m[\u001b[0m\u001b[0;34m:\u001b[0m\u001b[0;36m20\u001b[0m\u001b[0;34m]\u001b[0m\u001b[0;34m\u001b[0m\u001b[0m\n",
      "\u001b[0;32m/usr/local/lib/python2.7/dist-packages/nltk/tag/stanford.pyc\u001b[0m in \u001b[0;36m__init__\u001b[0;34m(self, *args, **kwargs)\u001b[0m\n\u001b[1;32m    166\u001b[0m \u001b[0;34m\u001b[0m\u001b[0m\n\u001b[1;32m    167\u001b[0m     \u001b[0;32mdef\u001b[0m \u001b[0m__init__\u001b[0m\u001b[0;34m(\u001b[0m\u001b[0mself\u001b[0m\u001b[0;34m,\u001b[0m \u001b[0;34m*\u001b[0m\u001b[0margs\u001b[0m\u001b[0;34m,\u001b[0m \u001b[0;34m**\u001b[0m\u001b[0mkwargs\u001b[0m\u001b[0;34m)\u001b[0m\u001b[0;34m:\u001b[0m\u001b[0;34m\u001b[0m\u001b[0m\n\u001b[0;32m--> 168\u001b[0;31m         \u001b[0msuper\u001b[0m\u001b[0;34m(\u001b[0m\u001b[0mStanfordNERTagger\u001b[0m\u001b[0;34m,\u001b[0m \u001b[0mself\u001b[0m\u001b[0;34m)\u001b[0m\u001b[0;34m.\u001b[0m\u001b[0m__init__\u001b[0m\u001b[0;34m(\u001b[0m\u001b[0;34m*\u001b[0m\u001b[0margs\u001b[0m\u001b[0;34m,\u001b[0m \u001b[0;34m**\u001b[0m\u001b[0mkwargs\u001b[0m\u001b[0;34m)\u001b[0m\u001b[0;34m\u001b[0m\u001b[0m\n\u001b[0m\u001b[1;32m    169\u001b[0m \u001b[0;34m\u001b[0m\u001b[0m\n\u001b[1;32m    170\u001b[0m     \u001b[0;34m@\u001b[0m\u001b[0mproperty\u001b[0m\u001b[0;34m\u001b[0m\u001b[0m\n",
      "\u001b[0;31mTypeError\u001b[0m: __init__() takes at least 2 arguments (1 given)"
     ]
    }
   ],
   "source": [
    "from nltk.tag import StanfordNERTagger\n",
    "st = StanfordNERTagger() \n",
    "ner = st.tag(terminos)\n",
    "print ner[:20]"
   ]
  }
 ],
 "metadata": {
  "kernelspec": {
   "display_name": "Python 2",
   "language": "python",
   "name": "python2"
  },
  "language_info": {
   "codemirror_mode": {
    "name": "ipython",
    "version": 2
   },
   "file_extension": ".py",
   "mimetype": "text/x-python",
   "name": "python",
   "nbconvert_exporter": "python",
   "pygments_lexer": "ipython2",
   "version": "2.7.12"
  }
 },
 "nbformat": 4,
 "nbformat_minor": 2
}
