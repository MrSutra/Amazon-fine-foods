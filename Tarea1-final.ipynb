{
 "cells": [
  {
   "cell_type": "markdown",
   "metadata": {
    "deletable": true,
    "editable": true
   },
   "source": [
    "# Tarea 1 - Amazon food review\n",
    "\n",
    "\n",
    "\n",
    "\n",
    "\n",
    "En primer lugar se carga el corpus, quitando todo el código HTML existente con BeautifulSoup, así solo se mantendrá el contenido que exista en dentro de los tag. Las reseñas se almacenan en la lista **corpus**, la cual tiene una estructura de lista de listas *corpus[[documento1],[documento2],...]*. A su vez, se tiene una lista **score** con la evaluación de los usuarios en cada reseña (esta información será utilizada más adelante)."
   ]
  },
  {
   "cell_type": "code",
   "execution_count": 1,
   "metadata": {
    "collapsed": false,
    "deletable": true,
    "editable": true
   },
   "outputs": [],
   "source": [
    "# -*- coding: utf-8 -*-\n",
    "from bs4 import BeautifulSoup\n",
    "\n",
    "reviews = open(\"amazon-fine-foods/Reviews.csv\", \"r\")\n",
    "corpus = []\n",
    "score = []\n",
    "\n",
    "reviews.readline() # sacar header\n",
    "\n",
    "for line in reviews:\n",
    "    review = line.strip().split(\",\")\n",
    "    text = BeautifulSoup(review[-1], 'html.parser')\n",
    "    corpus.append([text.get_text()])\n",
    "    score.append(review[6])\n",
    "\n",
    "reviews.close()"
   ]
  },
  {
   "cell_type": "markdown",
   "metadata": {
    "deletable": true,
    "editable": true
   },
   "source": [
    "Una vez cargada la información del corpus se procede a tokenizar cada documento. La tokenización corresponde a romper una secuencia de strings en piezas, en ese caso será en palabras. Mediante expresión regular se quita todo número y signo de puntuación existente, quedando así, solo letras.\n",
    "Esta información se guarda en la lista **tokens_doc** (lista de listas de tokens). \n",
    "\n",
    "\n",
    "En este proceso también se aplica *lower case a las palabras*."
   ]
  },
  {
   "cell_type": "code",
   "execution_count": 2,
   "metadata": {
    "collapsed": false,
    "deletable": true,
    "editable": true
   },
   "outputs": [
    {
     "name": "stdout",
     "output_type": "stream",
     "text": [
      "[[u'i', u'have', u'bought', u'several', u'of', u'the', u'vitality', u'canned', u'dog', u'food', u'products', u'and', u'have', u'found', u'them', u'all', u'to', u'be', u'of', u'good', u'quality', u'the', u'product', u'looks', u'more', u'like', u'a', u'stew', u'than', u'a', u'processed', u'meat', u'and', u'it', u'smells', u'better', u'my', u'labrador', u'is', u'finicky', u'and', u'she', u'appreciates', u'this', u'product', u'better', u'than', u'most'], [u'product', u'arrived', u'labeled', u'as', u'jumbo', u'salted', u'peanuts', u'the', u'peanuts', u'were', u'actually', u'small', u'sized', u'unsalted', u'not', u'sure', u'if', u'this', u'was', u'an', u'error', u'or', u'if', u'the', u'vendor', u'intended', u'to', u'represent', u'the', u'product', u'as', u'jumbo']]\n"
     ]
    }
   ],
   "source": [
    "from nltk.tokenize import RegexpTokenizer, regexp_tokenize\n",
    "\n",
    "tokens_doc = [] #tokens por documento/sentencia\n",
    "\n",
    "for text in corpus:\n",
    "    t = regexp_tokenize(text[0].lower(), pattern='[a-zA-Z]+')\n",
    "    tokens_doc.append(t)\n",
    "print tokens_doc[:2]"
   ]
  },
  {
   "cell_type": "markdown",
   "metadata": {
    "deletable": true,
    "editable": true
   },
   "source": [
    "Una vez que tenemos los tokens para cada documento, se carga la lista de stopwords desde la librería de nltk. Las stopwords son aquellas palabras que no son descriptivas para el corpus.\n",
    "Una vez que se realizó el filtrado de las stopwords de nltk se vió que aún existian palabras que no permitían un buen analisis, que no entregaban información relevante, por lo que se creo un archivo con aquellas stopwords que nosotros observamos, *'stopwrds.txt*. Este archivo lo juntamos con las anteriores y se procede a filtrar las palabras de cada documento. Los criterio para que no sean eliminados son:\n",
    "\n",
    "* No estar en la stoplist\n",
    "* Largo mayor o igual a 3\n",
    "* Frecuencia de la palabra en el corpus completo sea mayor o igual a 4\n",
    "\n",
    "Los tokens son guardados en la lista **tokens**, lista de lista de tokens. En base a esta lista, se crea otra lista, llamada **all_tokens** la cual contiene todos los tokens del corpus, sin separación entre documentosla cual nos permite generar la distribución de las palabras en el corpus según su frecuencia, y así poder utilizar esto como criterio de filtrado.\n",
    "             "
   ]
  },
  {
   "cell_type": "code",
   "execution_count": 3,
   "metadata": {
    "collapsed": false,
    "deletable": true,
    "editable": true
   },
   "outputs": [
    {
     "name": "stdout",
     "output_type": "stream",
     "text": [
      "[[u'bought', u'several', u'vitality', u'canned', u'dog', u'food', u'products', u'found', u'good', u'quality', u'product', u'looks', u'like', u'stew', u'processed', u'meat', u'smells', u'better', u'labrador', u'finicky', u'appreciates', u'product', u'better'], [u'product', u'arrived', u'labeled', u'jumbo', u'salted', u'peanuts', u'peanuts', u'actually', u'small', u'sized', u'unsalted', u'sure', u'error', u'vendor', u'intended', u'represent', u'product', u'jumbo']]\n"
     ]
    }
   ],
   "source": [
    "import nltk\n",
    "from nltk.corpus import stopwords\n",
    "\n",
    "# making stoplist with custom stopwords and library stopwords\n",
    "stoplist = []\n",
    "f = open(\"stopwords.txt\",\"r\")\n",
    "for sw in f:\n",
    "    stoplist.append(sw.strip())\n",
    "f.close()\n",
    "stoplist += stopwords.words('english') # stopwords\n",
    "\n",
    "\n",
    "all_tokens = [token for doc in tokens_doc for token in doc]\n",
    "\n",
    "frec_dist = nltk.FreqDist(all_tokens) # frec distribution of tokens\n",
    "\n",
    "# create list of list without stopwords\n",
    "tokens = []\n",
    "for doc in tokens_doc: \n",
    "    t = []\n",
    "    \n",
    "    for token in doc:\n",
    "        if token not in stoplist and len(token) >= 3 and frec_dist[token] >= 4:\n",
    "            t.append(token)\n",
    "    tokens.append(t)\n",
    "            \n",
    "print tokens[:2]"
   ]
  },
  {
   "cell_type": "markdown",
   "metadata": {
    "deletable": true,
    "editable": true
   },
   "source": [
    "# COMPLETAR (rellenar con bla bla la comparación)\n",
    "\n",
    "Se vuelve a generar la lista **all_tokens**, ya que en el paso anterior se eliminaron algunas palabras, por lo que se debe actualizar.\n",
    "El objetivo de este paso es generar el top-30 collocations, formadas por bigramas. Las collocations son aquellas  palabras que generalmente van juntas dentro de un texto, la cantidad de estas palabras se define según el n-grama usado, este caso es de a dos palabras, por lo tanto se deben buscar los 30 pares de palabras que generalmente van juntas dentro de las reviews de comida de amazon.\n",
    "Para lograr este objetivo se ejecutan 4 métricas de proximidad entre las palabras:\n",
    "\n",
    "* likelihood_ratio: Utiliza los ratios de verosimilitud en los bigramas.\n",
    "* raw_freq: Usa la frecuencia, y considera todos los bigramas en el texto como candidatos de collocations.\n",
    "* pmi: Usa Pointwise Mutual Information.\n",
    "* chi_sq: Determina los bigramas utilizando la distribución chi-cuadrado.\n",
    "\n",
    "Comparando estos resultados, se observa que *likelihood_ratio* entrega un mejor resultado. Luego, le sigue *raw_freq* y *pmi*. Finalmente, la que entrega peores resultados es la *chi_sq*.\n"
   ]
  },
  {
   "cell_type": "code",
   "execution_count": 7,
   "metadata": {
    "collapsed": false,
    "deletable": true,
    "editable": true
   },
   "outputs": [
    {
     "name": "stdout",
     "output_type": "stream",
     "text": [
      "[(u'highly', u'recommend'), (u'gluten', u'free'), (u'peanut', u'butter'), (u'subscribe', u'save'), (u'grocery', u'store'), (u'highly', u'recommended'), (u'much', u'better'), (u'would', u'recommend'), (u'year', u'old'), (u'amazon', u'com'), (u'green', u'mountain'), (u'green', u'tea'), (u'cup', u'coffee'), (u'hard', u'find'), (u'waste', u'money'), (u'free', u'shipping'), (u'dog', u'food'), (u'expiration', u'date'), (u'earl', u'grey'), (u'recommend', u'anyone'), (u'long', u'time'), (u'tastes', u'like'), (u'olive', u'oil'), (u'customer', u'service'), (u'dark', u'chocolate'), (u'ice', u'cream'), (u'years', u'ago'), (u'every', u'day'), (u'make', u'sure'), (u'give', u'try')] \n",
      "\n",
      "[((u'highly', u'recommend'), 0.0015492917887110697), ((u'would', u'recommend'), 0.0008041488021960918), ((u'gluten', u'free'), 0.0008017432893265979), ((u'great', u'product'), 0.0007933947446618839), ((u'much', u'better'), 0.0007659435977982482), ((u'taste', u'like'), 0.0007244838759887366), ((u'grocery', u'store'), 0.0006422719361548584), ((u'peanut', u'butter'), 0.0006200563173012976), ((u'cup', u'coffee'), 0.0005920391674095457), ((u'highly', u'recommended'), 0.0005892091522689646), ((u'really', u'good'), 0.0005710970553692462), ((u'great', u'price'), 0.0005532679599835859), ((u'tastes', u'like'), 0.0005469004259172787), ((u'subscribe', u'save'), 0.000533599354756548), ((u'taste', u'good'), 0.0005153457570998004), ((u'dog', u'food'), 0.0005094027253045803), ((u'recommend', u'product'), 0.000502469188210157), ((u'taste', u'great'), 0.0004709145193926787), ((u'green', u'tea'), 0.0004615754694287614), ((u'would', u'buy'), 0.00045648144217571565), ((u'tastes', u'great'), 0.0004470008914547693), ((u'really', u'like'), 0.0004249267733582375), ((u'hard', u'find'), 0.000415021720366204), ((u'amazon', u'com'), 0.00039040058864314925), ((u'long', u'time'), 0.0003770995174824185), ((u'free', u'shipping'), 0.00037228849174343083), ((u'year', u'old'), 0.00037073198341611125), ((u'good', u'price'), 0.0003705904826590822), ((u'give', u'try'), 0.00036181743572328114), ((u'dogs', u'love'), 0.0003538933933296543)] \n",
      "\n",
      "[((u'antioxdent', u'ithelps'), 20.75268689271526), ((u'aura', u'electromagnetic'), 20.75268689271526), ((u'baltasar', u'gracian'), 20.75268689271526), ((u'bicardi', u'oakheart'), 20.75268689271526), ((u'brownieok', u'flavorspretty'), 20.75268689271526), ((u'camellia', u'sinensis'), 20.75268689271526), ((u'cheeaper', u'petsmarthowever'), 20.75268689271526), ((u'craggles', u'wondermentsperfection'), 20.75268689271526), ((u'crags', u'craggles'), 20.75268689271526), ((u'dandie', u'dinmont'), 20.75268689271526), ((u'debbiednorvell', u'insightbb'), 20.75268689271526), ((u'earthquakes', u'nocks'), 20.75268689271526), ((u'eity', u'bity'), 20.75268689271526), ((u'gynostemma', u'pentaphyllum'), 20.75268689271526), ((u'hempnutrition', u'pdfhttp'), 20.75268689271526), ((u'hurly', u'burly'), 20.75268689271526), ((u'jacquie', u'woodsmaui'), 20.75268689271526), ((u'mantienen', u'aliento'), 20.75268689271526), ((u'moneyrip', u'offpopcorn'), 20.75268689271526), ((u'nodoz', u'vivarin'), 20.75268689271526), ((u'nosalty', u'soexpensive'), 20.75268689271526), ((u'optic', u'neuritis'), 20.75268689271526), ((u'orbs', u'crags'), 20.75268689271526), ((u'pdfhttp', u'sudburymarket'), 20.75268689271526), ((u'peking', u'duckin'), 20.75268689271526), ((u'perritos', u'mantienen'), 20.75268689271526), ((u'rooo', u'vah'), 20.75268689271526), ((u'sak', u'ouwt'), 20.75268689271526), ((u'sheng', u'tangshen'), 20.75268689271526), ((u'sincerelydanny', u'knowles'), 20.75268689271526)] \n",
      "\n",
      "[((u'antioxdent', u'ithelps'), 7067100.0), ((u'aura', u'electromagnetic'), 7067100.0), ((u'ballgreat', u'trainingconveniently'), 7067100.0), ((u'baltasar', u'gracian'), 7067100.0), ((u'baskin', u'robbins'), 7067100.0), ((u'behren', u'reneofc'), 7067100.0), ((u'bicardi', u'oakheart'), 7067100.0), ((u'blum', u'jablum'), 7067100.0), ((u'boletus', u'edulis'), 7067100.0), ((u'brownieok', u'flavorspretty'), 7067100.0), ((u'buttermaple', u'walnutdark'), 7067100.0), ((u'camellia', u'sinensis'), 7067100.0), ((u'cantidad', u'supongo'), 7067100.0), ((u'carboardy', u'styrofoamy'), 7067100.0), ((u'carbslower', u'fatcons'), 7067100.0), ((u'cazzo', u'ogni'), 7067100.0), ((u'cheeaper', u'petsmarthowever'), 7067100.0), ((u'chrissy', u'mcvay'), 7067100.0), ((u'coffeeexcellent', u'servicebest'), 7067100.0), ((u'contraction', u'epidural'), 7067100.0), ((u'craggles', u'wondermentsperfection'), 7067100.0), ((u'crags', u'craggles'), 7067100.0), ((u'dandie', u'dinmont'), 7067100.0), ((u'debbiednorvell', u'insightbb'), 7067100.0), ((u'dippingcheddar', u'yummyparmesan'), 7067100.0), ((u'earthquakes', u'nocks'), 7067100.0), ((u'eity', u'bity'), 7067100.0), ((u'enterococcus', u'faecium'), 7067100.0), ((u'fatcons', u'expensiveclumpier'), 7067100.0), ((u'forma', u'pida'), 7067100.0)] \n",
      "\n"
     ]
    }
   ],
   "source": [
    "from nltk.collocations import *\n",
    "bigram_measures = nltk.collocations.BigramAssocMeasures()\n",
    "\n",
    "all_tokens = [token for doc in tokens for token in doc]\n",
    "\n",
    "finder = BigramCollocationFinder.from_words(all_tokens)\n",
    "#print finder.items()[0:5]\n",
    "\n",
    "top_collocations = finder.nbest(bigram_measures.likelihood_ratio, 30) #top 30 bigramas\n",
    "print top_collocations[:30], \"\\n\"\n",
    "\n",
    "scored = finder.score_ngrams(bigram_measures.raw_freq)\n",
    "print scored[:30], \"\\n\"\n",
    "\n",
    "scored = finder.score_ngrams(bigram_measures.pmi)\n",
    "print scored[:30], \"\\n\"\n",
    "\n",
    "scored = finder.score_ngrams(bigram_measures.chi_sq)\n",
    "print scored[:30], \"\\n\""
   ]
  },
  {
   "cell_type": "markdown",
   "metadata": {
    "deletable": true,
    "editable": true
   },
   "source": [
    "Models POS tagger\n",
    "wsj-0-18-bidirectional-distsim.tagger\n",
    "Trained on WSJ sections 0-18 using a bidirectional architecture and\n",
    "including word shape and distributional similarity features.\n",
    "Penn Treebank tagset.\n",
    "Performance:\n",
    "97.28% correct on WSJ 19-21\n",
    "(90.46% correct on unknown words)\n",
    "\n",
    "wsj-0-18-left3words.tagger\n",
    "Trained on WSJ sections 0-18 using the left3words architecture and\n",
    "includes word shape features.  Penn tagset.\n",
    "Performance:\n",
    "96.97% correct on WSJ 19-21\n",
    "(88.85% correct on unknown words)\n",
    "\n",
    "wsj-0-18-left3words-distsim.tagger\n",
    "Trained on WSJ sections 0-18 using the left3words architecture and\n",
    "includes word shape and distributional similarity features. Penn tagset.\n",
    "Performance:\n",
    "97.01% correct on WSJ 19-21\n",
    "(89.81% correct on unknown words)\n",
    "\n",
    "english-left3words-distsim.tagger\n",
    "Trained on WSJ sections 0-18 and extra parser training data using the\n",
    "left3words architecture and includes word shape and distributional\n",
    "similarity features. Penn tagset.\n",
    "\n",
    "english-bidirectional-distsim.tagger\n",
    "Trained on WSJ sections 0-18 using a bidirectional architecture and\n",
    "including word shape and distributional similarity features.\n",
    "Penn Treebank tagset.\n",
    "\n",
    "wsj-0-18-caseless-left3words-distsim.tagger\n",
    "Trained on WSJ sections 0-18 left3words architecture and includes word\n",
    "shape and distributional similarity features. Penn tagset.  Ignores case.\n",
    "\n",
    "english-caseless-left3words-distsim.tagger\n",
    "Trained on WSJ sections 0-18 and extra parser training data using the\n",
    "left3words architecture and includes word shape and distributional\n",
    "similarity features. Penn tagset.  Ignores case.\n"
   ]
  },
  {
   "cell_type": "markdown",
   "metadata": {
    "deletable": true,
    "editable": true
   },
   "source": [
    "POS\n",
    "\n",
    "El proceso POS (Part-Of-Speech) tagger, se encarga de etiquetar cada uno de los tokens de acuerdo a la función que cumple en el texto, su categoria gramatical, por ejemplo si un token es un verbo, sustantivo, etc.\n",
    "\n",
    "Tanto para POS y NER tagger utilizamos el POS tagger de Standford, en el cual se debe especificar el ejecutable jar Standford en Java y el modelo entrenado según el cuál se analizará el corpus actual. \n",
    "\n",
    "Los modelos entregados para POS tagger están basados en el Wall Street Journal, teniendo distintas caracteristicas cada uno de ellos. \n"
   ]
  },
  {
   "cell_type": "code",
   "execution_count": 8,
   "metadata": {
    "collapsed": false,
    "deletable": true,
    "editable": true
   },
   "outputs": [
    {
     "name": "stdout",
     "output_type": "stream",
     "text": [
      "[u'bought', u'several', u'vitality', u'canned', u'dog', u'food', u'products', u'found', u'good', u'quality', u'product', u'looks', u'like', u'stew', u'processed', u'meat', u'smells', u'better', u'labrador', u'finicky', u'appreciates', u'product', u'better']\n",
      "[(u'bought', u'VBD'), (u'several', u'JJ'), (u'vitality', u'NN'), (u'canned', u'VBD'), (u'dog', u'NN'), (u'food', u'NN'), (u'products', u'NNS'), (u'found', u'VBD'), (u'good', u'JJ'), (u'quality', u'NN'), (u'product', u'NN'), (u'looks', u'VBZ'), (u'like', u'IN'), (u'stew', u'NN'), (u'processed', u'JJ'), (u'meat', u'NN'), (u'smells', u'VBZ'), (u'better', u'JJR'), (u'labrador', u'NN'), (u'finicky', u'NN'), (u'appreciates', u'VBZ'), (u'product', u'NN'), (u'better', u'RBR')]\n",
      "pos\n",
      "[[(u'bought', u'VBD'), (u'several', u'JJ'), (u'vitality', u'NN'), (u'canned', u'VBD'), (u'dog', u'NN'), (u'food', u'NN'), (u'products', u'NNS'), (u'found', u'VBD'), (u'good', u'JJ'), (u'quality', u'NN'), (u'product', u'NN'), (u'looks', u'VBZ'), (u'like', u'IN'), (u'stew', u'NN'), (u'processed', u'JJ'), (u'meat', u'NN'), (u'smells', u'VBZ'), (u'better', u'JJR'), (u'labrador', u'NN'), (u'finicky', u'NN'), (u'appreciates', u'VBZ'), (u'product', u'NN'), (u'better', u'RBR')], [(u'product', u'NN'), (u'arrived', u'VBD'), (u'labeled', u'VBN'), (u'jumbo', u'JJ'), (u'salted', u'JJ'), (u'peanuts', u'NNS'), (u'peanuts', u'NNS'), (u'actually', u'RB'), (u'small', u'JJ'), (u'sized', u'VBN'), (u'unsalted', u'JJ'), (u'sure', u'JJ'), (u'error', u'NN'), (u'vendor', u'NN'), (u'intended', u'VBN'), (u'represent', u'VBP'), (u'product', u'NN'), (u'jumbo', u'JJ')]]\n"
     ]
    }
   ],
   "source": [
    "from nltk.tag import StanfordPOSTagger\n",
    "\n",
    "jar = 'pos-tagger/stanford-postagger.jar'\n",
    "model = 'pos-tagger/english-bidirectional-distsim.tagger'\n",
    "\n",
    "\n",
    "st = StanfordPOSTagger(model,jar)\n",
    "print tokens[0]\n",
    "print st.tag(tokens[0])\n",
    "\n",
    "pos = [st.tag(doc) for doc in tokens[:5000]]\n",
    "\n",
    "print \"pos\"\n",
    "print pos[:2]"
   ]
  },
  {
   "cell_type": "markdown",
   "metadata": {
    "deletable": true,
    "editable": true
   },
   "source": [
    "NER\n",
    "\n",
    "El proceso NER (Named Entity Recognizer) tagger, se encarga de identificar entidades dentro del texto, es decir si es una organización, persona, etc. \n",
    "\n",
    "\n"
   ]
  },
  {
   "cell_type": "code",
   "execution_count": 19,
   "metadata": {
    "collapsed": false,
    "deletable": true,
    "editable": true
   },
   "outputs": [],
   "source": [
    "from nltk.tag import StanfordNERTagger\n",
    "\n",
    "jar = 'ner-tagger/stanford-ner.jar'\n",
    "model = 'ner-tagger/english.all.3class.distsim.crf.ser.gz'\n",
    "\n",
    "\n",
    "st = StanfordNERTagger(model, jar) \n",
    "ner = [st.tag(doc) for doc in tokens[:100]]"
   ]
  },
  {
   "cell_type": "code",
   "execution_count": 20,
   "metadata": {
    "collapsed": false
   },
   "outputs": [
    {
     "name": "stdout",
     "output_type": "stream",
     "text": [
      "[[(u'bought', u'O'), (u'several', u'O'), (u'vitality', u'O'), (u'canned', u'O'), (u'dog', u'O'), (u'food', u'O'), (u'products', u'O'), (u'found', u'O'), (u'good', u'O'), (u'quality', u'O'), (u'product', u'O'), (u'looks', u'O'), (u'like', u'O'), (u'stew', u'O'), (u'processed', u'O'), (u'meat', u'O'), (u'smells', u'O'), (u'better', u'O'), (u'labrador', u'O'), (u'finicky', u'O'), (u'appreciates', u'O'), (u'product', u'O'), (u'better', u'O')], [(u'product', u'O'), (u'arrived', u'O'), (u'labeled', u'O'), (u'jumbo', u'O'), (u'salted', u'O'), (u'peanuts', u'O'), (u'peanuts', u'O'), (u'actually', u'O'), (u'small', u'O'), (u'sized', u'O'), (u'unsalted', u'O'), (u'sure', u'O'), (u'error', u'O'), (u'vendor', u'O'), (u'intended', u'O'), (u'represent', u'O'), (u'product', u'O'), (u'jumbo', u'O')], [(u'wardrobe', u'O'), (u'treat', u'O'), (u'selling', u'O'), (u'brother', u'O'), (u'sisters', u'O'), (u'witch', u'O')], [(u'looking', u'O'), (u'secret', u'O'), (u'ingredient', u'O'), (u'robitussin', u'O'), (u'believe', u'O'), (u'found', u'O'), (u'got', u'O'), (u'addition', u'O'), (u'root', u'O'), (u'beer', u'O'), (u'extract', u'O'), (u'ordered', u'O'), (u'good', u'O'), (u'made', u'O'), (u'cherry', u'O'), (u'soda', u'O'), (u'flavor', u'O'), (u'medicinal', u'O')], [(u'deal', u'O')], [(u'lasted', u'O'), (u'two', u'O'), (u'weeks', u'O'), (u'would', u'O'), (u'recommend', u'O'), (u'brand', u'O'), (u'taffy', u'O'), (u'delightful', u'O'), (u'treat', u'O')], [(u'would', u'O'), (u'highly', u'O'), (u'recommend', u'O'), (u'candy', u'O'), (u'served', u'O'), (u'beach', u'O'), (u'themed', u'O'), (u'party', u'O'), (u'everyone', u'O'), (u'loved', u'O')], [(u'taffy', u'O'), (u'good', u'O'), (u'soft', u'O'), (u'chewy', u'O'), (u'flavors', u'O'), (u'amazing', u'O'), (u'would', u'O'), (u'definitely', u'O'), (u'recommend', u'O'), (u'buying', u'O'), (u'satisfying', u'O')], [(u'right', u'O'), (u'mostly', u'O'), (u'sprouting', u'O'), (u'cats', u'O'), (u'eat', u'O'), (u'grass', u'O'), (u'love', u'O'), (u'rotate', u'O'), (u'around', u'O'), (u'wheatgrass', u'O'), (u'rye', u'O')], [(u'healthy', u'O'), (u'dog', u'O'), (u'food', u'O'), (u'good', u'O'), (u'digestion', u'O'), (u'also', u'O'), (u'good', u'O'), (u'small', u'O'), (u'puppies', u'O'), (u'dog', u'O'), (u'eats', u'O'), (u'required', u'O'), (u'amount', u'O'), (u'every', u'O'), (u'feeding', u'O')], [(u'incredible', u'O'), (u'service', u'O')], [(u'product', u'O'), (u'food', u'O'), (u'higher', u'O'), (u'skinny', u'O'), (u'boy', u'O'), (u'jump', u'O'), (u'higher', u'O'), (u'food', u'O'), (u'sits', u'O'), (u'going', u'O'), (u'stale', u'O'), (u'really', u'O'), (u'food', u'O'), (u'chubby', u'O'), (u'boy', u'O'), (u'losing', u'O'), (u'ounce', u'O'), (u'week', u'O')], [(u'need', u'O'), (u'find', u'O'), (u'new', u'O'), (u'food', u'O'), (u'cats', u'O'), (u'eat', u'O')], [(u'good', u'O'), (u'flavor', u'O'), (u'came', u'O'), (u'securely', u'O'), (u'packed', u'O'), (u'fresh', u'O'), (u'delicious', u'O'), (u'love', u'O'), (u'twizzlers', u'O')], [(u'strawberry', u'O'), (u'twizzlers', u'O'), (u'guilty', u'O'), (u'pleasure', u'O'), (u'yummy', u'O'), (u'six', u'O'), (u'pounds', u'O'), (u'around', u'O'), (u'son', u'O')], [(u'daughter', u'O'), (u'loves', u'O'), (u'twizzlers', u'O'), (u'shipment', u'O'), (u'six', u'O'), (u'pounds', u'O'), (u'really', u'O'), (u'hit', u'O'), (u'spot', u'O'), (u'exactly', u'O'), (u'would', u'O'), (u'expect', u'O'), (u'six', u'O'), (u'packages', u'O'), (u'strawberry', u'O'), (u'twizzlers', u'O')], [(u'love', u'O'), (u'eating', u'O'), (u'good', u'O'), (u'watching', u'O'), (u'looking', u'O'), (u'movies', u'O'), (u'sweet', u'O'), (u'like', u'O'), (u'transfer', u'O'), (u'zip', u'O'), (u'lock', u'O'), (u'baggie', u'O'), (u'stay', u'O'), (u'fresh', u'O'), (u'take', u'O'), (u'time', u'O'), (u'eating', u'O')], [(u'satisfied', u'O'), (u'twizzler', u'O'), (u'purchase', u'O'), (u'shared', u'O'), (u'others', u'O'), (u'enjoyed', u'O'), (u'definitely', u'O'), (u'ordering', u'O')], [(u'product', u'O'), (u'kosher', u'O'), (u'thank', u'O')], [(u'candy', u'O'), (u'delivered', u'O'), (u'fast', u'O'), (u'purchased', u'O'), (u'reasonable', u'O'), (u'price', u'O'), (u'home', u'O'), (u'bound', u'O'), (u'unable', u'O'), (u'get', u'O'), (u'store', u'O'), (u'perfect', u'O')], [(u'packed', u'O'), (u'well', u'O'), (u'arrive', u'O'), (u'timely', u'O'), (u'manner', u'O')], [(u'ounce', u'O'), (u'bags', u'O'), (u'pack', u'O')], [(u'remember', u'O'), (u'buying', u'O'), (u'candy', u'O'), (u'kid', u'O'), (u'quality', u'O'), (u'dropped', u'O'), (u'years', u'O'), (u'still', u'O'), (u'superb', u'O'), (u'product', u'O'), (u'disappointed', u'O')], [(u'love', u'O'), (u'candy', u'O'), (u'weight', u'O'), (u'watchers', u'O'), (u'cut', u'O'), (u'back', u'O'), (u'still', u'O'), (u'craving', u'O')], [(u'often', u'O'), (u'able', u'O'), (u'buy', u'O'), (u'right', u'O')], [(u'ounce', u'O'), (u'bags', u'O'), (u'pack', u'O')], [(u'flavor', u'O'), (u'plan', u'O'), (u'chewy', u'O'), (u'would', u'O'), (u'never', u'O'), (u'buy', u'O')], [(u'glad', u'O'), (u'amazon', u'O'), (u'carried', u'O'), (u'batteries', u'O'), (u'hard', u'O'), (u'time', u'O'), (u'finding', u'O'), (u'elsewhere', u'O'), (u'unique', u'O'), (u'size', u'O'), (u'need', u'O'), (u'garage', u'O'), (u'door', u'O'), (u'opener', u'O'), (u'great', u'O'), (u'deal', u'O'), (u'price', u'O')], [(u'would', u'O'), (u'never', u'O'), (u'guess', u'O'), (u'sugar', u'O'), (u'free', u'O'), (u'great', u'O'), (u'eat', u'O'), (u'pretty', u'O'), (u'much', u'O'), (u'guilt', u'O'), (u'free', u'O'), (u'impressed', u'O'), (u'ordered', u'O'), (u'dark', u'O'), (u'chocolate', u'O'), (u'take', u'O'), (u'office', u'O'), (u'eat', u'O'), (u'instead', u'O'), (u'snacking', u'O'), (u'sugary', u'O'), (u'sweets', u'O'), (u'excellent', u'O')], [(u'incredible', u'O'), (u'service', u'O')], [(u'usually', u'O'), (u'non', u'O'), (u'coffee', u'O'), (u'drinker', u'O'), (u'little', u'O'), (u'machine', u'O'), (u'super', u'O'), (u'easy', u'O'), (u'use', u'O'), (u'prepares', u'O'), (u'really', u'O'), (u'good', u'O'), (u'coffee', u'O'), (u'latte', u'O'), (u'cappuccino', u'O'), (u'etc', u'O'), (u'less', u'O'), (u'minute', u'O'), (u'water', u'O'), (u'heated', u'O'), (u'would', u'O'), (u'recommend', u'O'), (u'dolce', u'O'), (u'gusto', u'O'), (u'anyone', u'O'), (u'good', u'O'), (u'price', u'O'), (u'getting', u'O'), (u'one', u'O')], [(u'thanks', u'O'), (u'amazon', u'O'), (u'selling', u'O'), (u'product', u'O')], [(u'instant', u'O'), (u'mccann', u'O'), (u'becomes', u'O'), (u'thick', u'O'), (u'gluey', u'O')], [(u'doctors', u'O'), (u'say', u'O'), (u'form', u'O'), (u'sugar', u'O'), (u'better', u'O'), (u'great', u'O'), (u'cold', u'O'), (u'morning', u'O'), (u'time', u'O'), (u'make', u'O'), (u'mccann', u'O'), (u'steel', u'O'), (u'cut', u'O'), (u'oats', u'O'), (u'apple', u'O'), (u'cinnamon', u'O'), (u'best', u'O'), (u'maple', u'O'), (u'brown', u'O'), (u'sugar', u'O'), (u'regular', u'O'), (u'good', u'O'), (u'plus', u'O'), (u'require', u'O'), (u'doctoring', u'O'), (u'actually', u'O'), (u'tell', u'O'), (u'three', u'O'), (u'flavors', u'O'), (u'apart', u'O')], [(u'count', u'O'), (u'boxes', u'O'), (u'pack', u'O')], [(u'fiber', u'O'), (u'make', u'O'), (u'bloat', u'O')], [(u'abby', u'O')], [(u'convenient', u'O')], [(u'ended', u'O'), (u'trying', u'O'), (u'apple', u'O'), (u'cinn', u'O'), (u'found', u'O'), (u'made', u'O'), (u'water', u'O'), (u'powdered', u'O'), (u'milk', u'O'), (u'goes', u'O'), (u'good', u'O'), (u'coffee', u'O'), (u'slice', u'O'), (u'toast', u'O'), (u'ready', u'O'), (u'take', u'O'), (u'world', u'O'), (u'day', u'O'), (u'least', u'O'), (u'jerry', u'O')], [(u'count', u'O'), (u'boxes', u'O'), (u'pack', u'O')], [(u'extremely', u'O'), (u'cheap', u'O')], [(u'love', u'O'), (u'oatmeal', u'O')], [(u'mccann', u'O'), (u'oatmeal', u'O'), (u'every', u'O'), (u'morning', u'O'), (u'ordering', u'O'), (u'amazon', u'O'), (u'able', u'O'), (u'save', u'O'), (u'almost', u'O'), (u'per', u'O'), (u'box', u'O'), (u'great', u'O'), (u'product', u'O'), (u'tastes', u'O'), (u'great', u'O'), (u'healthy', u'O')], [(u'excellent', u'O')], [(u'really', u'O'), (u'like', u'O'), (u'mccann', u'O'), (u'steel', u'O'), (u'cut', u'O'), (u'oats', u'O'), (u'find', u'O'), (u'cook', u'O'), (u'often', u'O'), (u'tastes', u'O'), (u'much', u'O'), (u'better', u'O'), (u'grocery', u'O'), (u'store', u'O'), (u'brands', u'O'), (u'convenient', u'O'), (u'anything', u'O'), (u'keeps', u'O'), (u'eating', u'O'), (u'oatmeal', u'O'), (u'regularly', u'O'), (u'good', u'O'), (u'thing', u'O')], [(u'probably', u'O'), (u'buy', u'O')], [(u'good', u'O'), (u'oatmeal', u'O'), (u'like', u'O'), (u'apple', u'O'), (u'cinnamon', u'O'), (u'best', u'O'), (u'though', u'O'), (u'follow', u'O'), (u'directions', u'O'), (u'package', u'O'), (u'since', u'O'), (u'always', u'O'), (u'comes', u'O'), (u'soupy', u'O'), (u'taste', u'O'), (u'could', u'O'), (u'since', u'O'), (u'like', u'O'), (u'oatmeal', u'O'), (u'really', u'O'), (u'thick', u'O'), (u'add', u'O'), (u'milk', u'O'), (u'top', u'O')], [(u'see', u'O'), (u'oats', u'O'), (u'brand', u'O'), (u'mushy', u'O')], [(u'variety', u'O'), (u'get', u'O'), (u'maple', u'O'), (u'brown', u'O'), (u'sugar', u'O')], [(u'stuff', u'O'), (u'buy', u'O'), (u'big', u'O'), (u'box', u'O'), (u'stores', u'O'), (u'nothing', u'O'), (u'healthy', u'O'), (u'carbs', u'O'), (u'sugars', u'O'), (u'save', u'O'), (u'money', u'O'), (u'get', u'O'), (u'something', u'O'), (u'least', u'O'), (u'taste', u'O')], [(u'like', u'O'), (u'quaker', u'O'), (u'oats', u'O'), (u'way', u'O')], [(u'burn', u'O'), (u'mouth', u'O'), (u'forever', u'O'), (u'hot', u'O'), (u'nice', u'O'), (u'temp', u'O'), (u'perfect', u'O')], [(u'probably', u'O'), (u'give', u'O'), (u'greg', u'O'), (u'jaw', u'O'), (u'christmas', u'O'), (u'insulted', u'O')], [(u'used', u'O'), (u'spicy', u'O'), (u'foods', u'O'), (u'south', u'O'), (u'texas', u'O'), (u'spicy', u'O'), (u'doubt', u'O'), (u'much', u'O'), (u'habanero', u'O'), (u'used', u'O'), (u'could', u'O'), (u'take', u'O'), (u'notch', u'O'), (u'two', u'O')], [(u'yet', u'O'), (u'lively', u'O')], [(u'send', u'O'), (u'roasted', u'O'), (u'beans', u'O'), (u'home', u'O'), (u'friends', u'O'), (u'like', u'O'), (u'much', u'O')], [(u'deal', u'O'), (u'awesome', u'O'), (u'arrived', u'O'), (u'halloween', u'O'), (u'indicated', u'O'), (u'enough', u'O'), (u'satisfy', u'O'), (u'trick', u'O'), (u'treaters', u'O'), (u'love', u'O'), (u'quality', u'O'), (u'product', u'O'), (u'much', u'O'), (u'less', u'O'), (u'expensive', u'O'), (u'local', u'O'), (u'store', u'O'), (u'candy', u'O')], [(u'take', u'O'), (u'five', u'O')], [(u'shipped', u'O'), (u'promptly', u'O'), (u'kids', u'O'), (u'neighborhood', u'O'), (u'liked', u'O'), (u'candies', u'O')], [(u'sent', u'O'), (u'bag', u'O'), (u'daughters', u'O'), (u'class', u'O'), (u'share', u'O'), (u'chocolate', u'O'), (u'fresh', u'O'), (u'enjoyed', u'O'), (u'many', u'O')], [(u'price', u'O'), (u'less', u'O'), (u'target', u'O')], [(u'good', u'O'), (u'combination', u'O'), (u'favorite', u'O'), (u'candy', u'O')], [(u'arrived', u'O'), (u'days', u'O'), (u'stale', u'O'), (u'could', u'O'), (u'eat', u'O'), (u'bags', u'O')], [(u'get', u'O'), (u'refreshing', u'O'), (u'lemon', u'O'), (u'lime', u'O'), (u'mango', u'O'), (u'always', u'O'), (u'get', u'O'), (u'fizz', u'O'), (u'also', u'O'), (u'drop', u'O'), (u'tablet', u'O'), (u'bottled', u'O'), (u'water', u'O'), (u'whenever', u'O'), (u'exercise', u'O'), (u'nice', u'O'), (u'flavored', u'O'), (u'water', u'O'), (u'chock', u'O'), (u'full', u'O'), (u'electrolytes', u'O'), (u'cannot', u'O'), (u'recommend', u'O'), (u'product', u'O'), (u'hammer', u'O'), (u'product', u'O'), (u'highly', u'O'), (u'enough', u'O')], [(u'product', u'O'), (u'serves', u'O'), (u'well', u'O'), (u'source', u'O'), (u'electrolytes', u'O'), (u'long', u'O'), (u'run', u'O'), (u'bike', u'O'), (u'ride', u'O'), (u'tried', u'O'), (u'flavors', u'O'), (u'really', u'O'), (u'like', u'O'), (u'grapefruit', u'O'), (u'flavor', u'O'), (u'taste', u'O'), (u'actually', u'O'), (u'like', u'O'), (u'slight', u'O'), (u'carbonation', u'O'), (u'use', u'O'), (u'hammer', u'O'), (u'products', u'O'), (u'really', u'O'), (u'like', u'O'), (u'whole', u'O'), (u'product', u'O'), (u'line', u'O')], [(u'stuff', u'O'), (u'really', u'O'), (u'works', u'O'), (u'preventing', u'O'), (u'cramping', u'O'), (u'middle', u'O'), (u'latter', u'O'), (u'stages', u'O'), (u'rides', u'O'), (u'pop', u'O'), (u'water', u'O'), (u'bottle', u'O'), (u'set', u'O'), (u'flavor', u'O'), (u'fine', u'O'), (u'goes', u'O'), (u'easy', u'O')], [(u'low', u'O'), (u'carb', u'O'), (u'diet', u'O'), (u'little', u'O'), (u'tablets', u'O'), (u'thing', u'O'), (u'two', u'O'), (u'years', u'O'), (u'ago', u'O'), (u'started', u'O'), (u'cycling', u'O'), (u'many', u'O'), (u'years', u'O'), (u'heart', u'O'), (u'arrhythmia', u'O'), (u'longer', u'O'), (u'rides', u'O'), (u'high', u'O'), (u'heat', u'O'), (u'drinking', u'O'), (u'plain', u'O'), (u'water', u'O'), (u'little', u'O'), (u'research', u'O'), (u'thought', u'O'), (u'electrolytes', u'O'), (u'might', u'O'), (u'issue', u'O'), (u'gatorade', u'O'), (u'option', u'O'), (u'loaded', u'O'), (u'carbohydrates', u'O'), (u'looked', u'O'), (u'around', u'O'), (u'low', u'O'), (u'carb', u'O'), (u'alternative', u'O'), (u'zero', u'O'), (u'carb', u'O'), (u'sports', u'O'), (u'drinks', u'O'), (u'help', u'O'), (u'one', u'O'), (u'day', u'O'), (u'ran', u'O'), (u'across', u'O'), (u'bike', u'O'), (u'shop', u'O'), (u'tried', u'O'), (u'tube', u'O'), (u'voila', u'O'), (u'problem', u'O'), (u'solved', u'O'), (u'shared', u'O'), (u'two', u'O'), (u'friends', u'O'), (u'particular', u'O'), (u'whose', u'O'), (u'problems', u'O'), (u'leg', u'O'), (u'cramps', u'O'), (u'resolved', u'O'), (u'using', u'O'), (u'guys', u'O'), (u'got', u'O'), (u'right', u'O'), (u'superbly', u'O'), (u'formulated', u'O'), (u'simply', u'O'), (u'work', u'O')], [(u'bad', u'O'), (u'enough', u'O'), (u'notice', u'O'), (u'bad', u'O'), (u'taste', u'O'), (u'every', u'O'), (u'sip', u'O'), (u'take', u'O')], [(u'price', u'O'), (u'little', u'O'), (u'ridiculous', u'O'), (u'esp', u'O'), (u'add', u'O'), (u'shipping', u'O')], [(u'sooooo', u'O'), (u'deliscious', u'O'), (u'bad', u'O'), (u'ate', u'O'), (u'fast', u'O'), (u'gained', u'O'), (u'pds', u'O'), (u'fault', u'O')], [(u'whatever', u'O'), (u'twin', u'O'), (u'packs', u'O'), (u'pound', u'O'), (u'bags', u'O'), (u'screaming', u'O'), (u'deal', u'O'), (u'far', u'O'), (u'concerned', u'O'), (u'probably', u'O'), (u'pounds', u'O'), (u'deep', u'O'), (u'friggin', u'O'), (u'things', u'O'), (u'consumed', u'O')], [(u'gummy', u'O'), (u'bears', u'O'), (u'awesome', u'O'), (u'frozen', u'O'), (u'delicious', u'O')], [(u'jam', u'O'), (u'really', u'O'), (u'good', u'O'), (u'taste', u'O'), (u'great', u'O'), (u'gone', u'O'), (u'time', u'O'), (u'guests', u'O'), (u'really', u'O'), (u'impressed', u'O')], [(u'maltitol', u'O')], [(u'okay', u'O'), (u'would', u'O'), (u'way', u'O'), (u'buy', u'O')], [(u'tea', u'O'), (u'flavor', u'O'), (u'whole', u'O'), (u'brunch', u'O'), (u'flavors', u'O'), (u'returnable', u'O'), (u'wasted', u'O'), (u'bucks', u'O')], [(u'see', u'O'), (u'store', u'O'), (u'would', u'O'), (u'pick', u'O')], [(u'taste', u'O'), (u'really', u'O'), (u'good', u'O'), (u'purchasing', u'O'), (u'different', u'O'), (u'brand', u'O'), (u'similar', u'O'), (u'taste', u'O'), (u'texture', u'O'), (u'agree', u'O'), (u'reviewer', u'O'), (u'regarding', u'O'), (u'ordering', u'O'), (u'summer', u'O'), (u'insulating', u'O'), (u'packaging', u'O'), (u'ice', u'O'), (u'packs', u'O'), (u'melt', u'O'), (u'warm', u'O'), (u'weather', u'O'), (u'like', u'O'), (u'chocolate', u'O'), (u'food', u'O'), (u'items', u'O'), (u'order', u'O'), (u'cold', u'O'), (u'weather', u'O'), (u'buy', u'O'), (u'enough', u'O'), (u'last', u'O')], [(u'berries', u'O'), (u'melted', u'O'), (u'may', u'O'), (u'order', u'O'), (u'winter', u'O'), (u'order', u'O'), (u'cold', u'O'), (u'weather', u'O'), (u'enjoy', u'O'), (u'flavor', u'O')], [(u'south', u'O'), (u'know', u'O'), (u'never', u'O'), (u'enjoyed', u'O'), (u'tea', u'O'), (u'sweet', u'O'), (u'without', u'O'), (u'sweet', u'O'), (u'tastes', u'O'), (u'crisp', u'O')], [(u'peppermint', u'O'), (u'stick', u'O'), (u'delicious', u'O'), (u'fun', u'O'), (u'eat', u'O'), (u'dad', u'O'), (u'got', u'O'), (u'one', u'O'), (u'christmas', u'O'), (u'remembered', u'O'), (u'similar', u'O'), (u'one', u'O'), (u'little', u'O'), (u'girl', u'O'), (u'love', u'O')], [(u'kept', u'O'), (u'would', u'O'), (u'eat', u'O')], [(u'sure', u'O'), (u'experiment', u'O'), (u'cooking', u'O'), (u'main', u'O'), (u'reason', u'O'), (u'bought', u'O'), (u'make', u'O'), (u'creamer', u'O'), (u'worked', u'O'), (u'great', u'O')], [(u'tried', u'O'), (u'lamb', u'O'), (u'rice', u'O'), (u'started', u'O'), (u'itching', u'O'), (u'like', u'O'), (u'natural', u'O'), (u'balance', u'O'), (u'quality', u'O'), (u'ingredients', u'O')], [(u'find', u'O'), (u'best', u'O'), (u'pet', u'O')], [(u'hot', u'O'), (u'spots', u'O'), (u'tummy', u'O'), (u'problems', u'O'), (u'love', u'O'), (u'ships', u'O'), (u'right', u'O'), (u'door', u'O'), (u'free', u'O'), (u'shipping', u'O')], [(u'happy', u'O'), (u'finally', u'O'), (u'eat', u'O'), (u'something', u'O'), (u'know', u'O'), (u'cause', u'O'), (u'pain', u'O')], [(u'shepherd', u'O'), (u'collie', u'O'), (u'mix', u'O'), (u'ibs', u'O'), (u'vet', u'O'), (u'recommended', u'O'), (u'limited', u'O'), (u'ingredient', u'O'), (u'food', u'O'), (u'really', u'O'), (u'helped', u'O'), (u'symptoms', u'O'), (u'likes', u'O'), (u'always', u'O'), (u'buy', u'O'), (u'amazon', u'O'), (u'cheaper', u'O'), (u'free', u'O'), (u'shipping', u'O')], [(u'natural', u'O'), (u'balance', u'O'), (u'dry', u'O'), (u'dog', u'O'), (u'food', u'O'), (u'lamb', u'O'), (u'meal', u'O'), (u'brown', u'O'), (u'rice', u'O'), (u'recipe', u'O'), (u'wonders', u'O'), (u'jack', u'O'), (u'russell', u'O'), (u'awful', u'O'), (u'food', u'O'), (u'allergy', u'O'), (u'food', u'O'), (u'last', u'O'), (u'hope', u'O'), (u'last', u'O'), (u'food', u'O'), (u'could', u'O'), (u'find', u'O'), (u'something', u'O'), (u'allergic', u'O'), (u'problem', u'O'), (u'eating', u'O'), (u'dry', u'O'), (u'normally', u'O'), (u'mix', u'O'), (u'natural', u'O'), (u'balance', u'O'), (u'dry', u'O'), (u'lamb', u'O'), (u'brown', u'O'), (u'rice', u'O'), (u'natural', u'O'), (u'balance', u'O'), (u'wet', u'O'), (u'lamb', u'O'), (u'brown', u'O'), (u'rice', u'O'), (u'seems', u'O'), (u'like', u'O'), (u'better', u'O'), (u'started', u'O'), (u'feeding', u'O'), (u'dog', u'O'), (u'bichon', u'O'), (u'loves', u'O'), (u'dog', u'O'), (u'allergy', u'O'), (u'stomach', u'O'), (u'issue', u'O'), (u'want', u'O'), (u'dog', u'O'), (u'eat', u'O'), (u'better', u'O'), (u'food', u'O'), (u'see', u'O'), (u'difference', u'O'), (u'pet', u'O')], [(u'else', u'O'), (u'mom', u'O'), (u'ask', u'O')], [(u'standard', u'O'), (u'poodle', u'O'), (u'pomeranian', u'O'), (u'wonderful', u'O'), (u'food', u'O'), (u'switched', u'O'), (u'different', u'O'), (u'food', u'O'), (u'due', u'O'), (u'price', u'O'), (u'couple', u'O'), (u'times', u'O'), (u'end', u'O'), (u'going', u'O'), (u'right', u'O'), (u'back', u'O'), (u'natural', u'O'), (u'balance', u'O')], [(u'dog', u'O'), (u'allergies', u'O'), (u'brand', u'O'), (u'one', u'O'), (u'feed', u'O')], [(u'food', u'O'), (u'great', u'O'), (u'ages', u'O'), (u'dogs', u'O'), (u'year', u'O'), (u'old', u'O'), (u'puppy', u'O'), (u'soft', u'O'), (u'hardly', u'O'), (u'ever', u'O'), (u'get', u'O'), (u'sick', u'O'), (u'food', u'O'), (u'good', u'O'), (u'especially', u'O'), (u'amazon', u'O'), (u'prime', u'O'), (u'shipping', u'O')], [(u'dog', u'O'), (u'seems', u'O'), (u'love', u'O')], [(u'food', u'O'), (u'get', u'O'), (u'pet', u'O'), (u'store', u'O'), (u'delivered', u'O'), (u'door', u'O'), (u'price', u'O'), (u'slightly', u'O'), (u'less', u'O')], [(u'pleased', u'O'), (u'natural', u'O'), (u'balance', u'O'), (u'dog', u'O'), (u'food', u'O'), (u'dogs', u'O'), (u'issues', u'O'), (u'dog', u'O'), (u'foods', u'O'), (u'past', u'O'), (u'someone', u'O'), (u'recommend', u'O'), (u'natural', u'O'), (u'balance', u'O'), (u'grain', u'O'), (u'free', u'O'), (u'since', u'O'), (u'possible', u'O'), (u'allergic', u'O'), (u'grains', u'O'), (u'since', u'O'), (u'switching', u'O'), (u'issues', u'O'), (u'also', u'O'), (u'helpful', u'O'), (u'different', u'O'), (u'kibble', u'O'), (u'size', u'O'), (u'larger', u'O'), (u'smaller', u'O'), (u'sized', u'O'), (u'dogs', u'O')], [(u'day', u'O'), (u'shipping', u'O'), (u'amazon', u'O'), (u'prime', u'O'), (u'sold', u'O')], [(u'pup', u'O'), (u'experienced', u'O'), (u'allergies', u'O'), (u'forms', u'O'), (u'hotspots', u'O'), (u'itching', u'O'), (u'dog', u'O'), (u'foods', u'O'), (u'cheap', u'O'), (u'buy', u'O'), (u'anywhere', u'O'), (u'food', u'O'), (u'crazy', u'O'), (u'preservatives', u'O'), (u'cause', u'O'), (u'health', u'O'), (u'problems', u'O'), (u'pets', u'O'), (u'food', u'O'), (u'works', u'O'), (u'wonders', u'O'), (u'reducing', u'O'), (u'allergies', u'O'), (u'dog', u'O'), (u'loves', u'O'), (u'food', u'O'), (u'message', u'O'), (u'frankenstein', u'O'), (u'approved', u'O')], [(u'working', u'O'), (u'ever', u'O'), (u'since', u'O'), (u'dogs', u'O'), (u'need', u'O'), (u'limited', u'O'), (u'diet', u'O'), (u'sensitive', u'O'), (u'additives', u'O'), (u'proteins', u'O'), (u'commonly', u'O'), (u'found', u'O'), (u'commercial', u'O'), (u'dog', u'O'), (u'food', u'O'), (u'like', u'O'), (u'chicken', u'O'), (u'beef', u'O')], [(u'gave', u'O'), (u'terrible', u'O'), (u'diarrhea', u'O'), (u'buying', u'O'), (u'also', u'O'), (u'super', u'O'), (u'expensive', u'O')]]\n"
     ]
    }
   ],
   "source": [
    "print ner[:100]"
   ]
  },
  {
   "cell_type": "markdown",
   "metadata": {
    "deletable": true,
    "editable": true
   },
   "source": [
    "sentiment analysis"
   ]
  },
  {
   "cell_type": "code",
   "execution_count": null,
   "metadata": {
    "collapsed": false,
    "deletable": true,
    "editable": true
   },
   "outputs": [],
   "source": [
    "from nltk.sentiment.vader import SentimentIntensityAnalyzer\n",
    "\n",
    "sid = SentimentIntensityAnalyzer()\n",
    "sid.polarity_scores(tokens[0][0]) #probar"
   ]
  }
 ],
 "metadata": {
  "kernelspec": {
   "display_name": "Python 2",
   "language": "python",
   "name": "python2"
  },
  "language_info": {
   "codemirror_mode": {
    "name": "ipython",
    "version": 2
   },
   "file_extension": ".py",
   "mimetype": "text/x-python",
   "name": "python",
   "nbconvert_exporter": "python",
   "pygments_lexer": "ipython2",
   "version": "2.7.12"
  }
 },
 "nbformat": 4,
 "nbformat_minor": 2
}
